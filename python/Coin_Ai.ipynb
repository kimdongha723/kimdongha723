{
  "nbformat": 4,
  "nbformat_minor": 0,
  "metadata": {
    "colab": {
      "name": "Coin_Ai.ipynb ",
      "provenance": [],
      "collapsed_sections": [],
      "include_colab_link": true
    },
    "kernelspec": {
      "name": "python3",
      "display_name": "Python 3"
    },
    "language_info": {
      "name": "python"
    }
  },
  "cells": [
    {
      "cell_type": "markdown",
      "metadata": {
        "id": "view-in-github",
        "colab_type": "text"
      },
      "source": [
        "<a href=\"https://colab.research.google.com/github/kimdongha723/kimdongha723/blob/main/python/Coin_Ai.ipynb\" target=\"_parent\"><img src=\"https://colab.research.google.com/assets/colab-badge.svg\" alt=\"Open In Colab\"/></a>"
      ]
    },
    {
      "cell_type": "code",
      "metadata": {
        "id": "HV0SrOgcHMw_",
        "colab": {
          "base_uri": "https://localhost:8080/"
        },
        "outputId": "a0133231-46b5-4344-fbe2-72dbfa0b176d"
      },
      "source": [
        "!pip install pyupbit\n",
        "!pip install pykrx"
      ],
      "execution_count": 1,
      "outputs": [
        {
          "output_type": "stream",
          "name": "stdout",
          "text": [
            "Collecting pyupbit\n",
            "  Downloading pyupbit-0.2.21-py3-none-any.whl (21 kB)\n",
            "Collecting pyjwt>=2.0.0\n",
            "  Downloading PyJWT-2.3.0-py3-none-any.whl (16 kB)\n",
            "Collecting websockets==9.1\n",
            "  Downloading websockets-9.1-cp37-cp37m-manylinux2010_x86_64.whl (103 kB)\n",
            "\u001b[K     |████████████████████████████████| 103 kB 7.8 MB/s \n",
            "\u001b[?25hRequirement already satisfied: requests in /usr/local/lib/python3.7/dist-packages (from pyupbit) (2.23.0)\n",
            "Requirement already satisfied: pandas in /usr/local/lib/python3.7/dist-packages (from pyupbit) (1.1.5)\n",
            "Requirement already satisfied: numpy>=1.15.4 in /usr/local/lib/python3.7/dist-packages (from pandas->pyupbit) (1.19.5)\n",
            "Requirement already satisfied: pytz>=2017.2 in /usr/local/lib/python3.7/dist-packages (from pandas->pyupbit) (2018.9)\n",
            "Requirement already satisfied: python-dateutil>=2.7.3 in /usr/local/lib/python3.7/dist-packages (from pandas->pyupbit) (2.8.2)\n",
            "Requirement already satisfied: six>=1.5 in /usr/local/lib/python3.7/dist-packages (from python-dateutil>=2.7.3->pandas->pyupbit) (1.15.0)\n",
            "Requirement already satisfied: chardet<4,>=3.0.2 in /usr/local/lib/python3.7/dist-packages (from requests->pyupbit) (3.0.4)\n",
            "Requirement already satisfied: idna<3,>=2.5 in /usr/local/lib/python3.7/dist-packages (from requests->pyupbit) (2.10)\n",
            "Requirement already satisfied: certifi>=2017.4.17 in /usr/local/lib/python3.7/dist-packages (from requests->pyupbit) (2021.5.30)\n",
            "Requirement already satisfied: urllib3!=1.25.0,!=1.25.1,<1.26,>=1.21.1 in /usr/local/lib/python3.7/dist-packages (from requests->pyupbit) (1.24.3)\n",
            "Installing collected packages: websockets, pyjwt, pyupbit\n",
            "Successfully installed pyjwt-2.3.0 pyupbit-0.2.21 websockets-9.1\n",
            "Collecting pykrx\n",
            "  Downloading pykrx-1.0.26-py3-none-any.whl (82 kB)\n",
            "\u001b[K     |████████████████████████████████| 82 kB 656 kB/s \n",
            "\u001b[?25hRequirement already satisfied: pandas in /usr/local/lib/python3.7/dist-packages (from pykrx) (1.1.5)\n",
            "Collecting deprecated\n",
            "  Downloading Deprecated-1.2.13-py2.py3-none-any.whl (9.6 kB)\n",
            "Collecting datetime\n",
            "  Downloading DateTime-4.3-py2.py3-none-any.whl (60 kB)\n",
            "\u001b[K     |████████████████████████████████| 60 kB 6.9 MB/s \n",
            "\u001b[?25hRequirement already satisfied: requests in /usr/local/lib/python3.7/dist-packages (from pykrx) (2.23.0)\n",
            "Requirement already satisfied: numpy in /usr/local/lib/python3.7/dist-packages (from pykrx) (1.19.5)\n",
            "Requirement already satisfied: xlrd in /usr/local/lib/python3.7/dist-packages (from pykrx) (1.1.0)\n",
            "Collecting zope.interface\n",
            "  Downloading zope.interface-5.4.0-cp37-cp37m-manylinux2010_x86_64.whl (251 kB)\n",
            "\u001b[K     |████████████████████████████████| 251 kB 39.3 MB/s \n",
            "\u001b[?25hRequirement already satisfied: pytz in /usr/local/lib/python3.7/dist-packages (from datetime->pykrx) (2018.9)\n",
            "Requirement already satisfied: wrapt<2,>=1.10 in /usr/local/lib/python3.7/dist-packages (from deprecated->pykrx) (1.12.1)\n",
            "Requirement already satisfied: python-dateutil>=2.7.3 in /usr/local/lib/python3.7/dist-packages (from pandas->pykrx) (2.8.2)\n",
            "Requirement already satisfied: six>=1.5 in /usr/local/lib/python3.7/dist-packages (from python-dateutil>=2.7.3->pandas->pykrx) (1.15.0)\n",
            "Requirement already satisfied: certifi>=2017.4.17 in /usr/local/lib/python3.7/dist-packages (from requests->pykrx) (2021.5.30)\n",
            "Requirement already satisfied: chardet<4,>=3.0.2 in /usr/local/lib/python3.7/dist-packages (from requests->pykrx) (3.0.4)\n",
            "Requirement already satisfied: urllib3!=1.25.0,!=1.25.1,<1.26,>=1.21.1 in /usr/local/lib/python3.7/dist-packages (from requests->pykrx) (1.24.3)\n",
            "Requirement already satisfied: idna<3,>=2.5 in /usr/local/lib/python3.7/dist-packages (from requests->pykrx) (2.10)\n",
            "Requirement already satisfied: setuptools in /usr/local/lib/python3.7/dist-packages (from zope.interface->datetime->pykrx) (57.4.0)\n",
            "Installing collected packages: zope.interface, deprecated, datetime, pykrx\n",
            "Successfully installed datetime-4.3 deprecated-1.2.13 pykrx-1.0.26 zope.interface-5.4.0\n"
          ]
        }
      ]
    },
    {
      "cell_type": "code",
      "metadata": {
        "id": "OPo1hQ62HcxA"
      },
      "source": [
        "import pyupbit\n",
        "from pykrx import stock\n",
        "from fbprophet import Prophet\n",
        "from fbprophet.plot import add_changepoints_to_plot"
      ],
      "execution_count": 2,
      "outputs": []
    },
    {
      "cell_type": "code",
      "metadata": {
        "id": "sjI3ac9tT7D2"
      },
      "source": [
        "# BTC 최근 200시간의 데이터 불러옴\n",
        "\n",
        "df = pyupbit.get_ohlcv(\"KRW-xtz\", interval=\"minute30\")"
      ],
      "execution_count": null,
      "outputs": []
    },
    {
      "cell_type": "code",
      "metadata": {
        "id": "eDaG0GWkVO3N"
      },
      "source": [
        "# 시간(ds)와 종가(y)값만 남김\n",
        "df = df.reset_index()\n",
        "df['ds'] = df['index']\n",
        "df['y'] = df['close']\n",
        "data = df[['ds', 'y']]"
      ],
      "execution_count": null,
      "outputs": []
    },
    {
      "cell_type": "code",
      "metadata": {
        "colab": {
          "base_uri": "https://localhost:8080/"
        },
        "id": "lLe7j7jnVep2",
        "outputId": "c7f7bfc0-caec-4e30-8cb2-042b8046d8f3"
      },
      "source": [
        "#학습\n",
        "#튜닝 전\n",
        "# model = Prophet()\n",
        "# model.fit(data)\n",
        "\n",
        "\n",
        "#학습\n",
        "#튜닝 후\n",
        "model = Prophet(\n",
        "    seasonality_mode='multiplicative',\n",
        "    changepoint_prior_scale=0.5,\n",
        "    changepoint_range=0.9,\n",
        ")\n",
        "model.fit(data)"
      ],
      "execution_count": null,
      "outputs": [
        {
          "output_type": "stream",
          "name": "stderr",
          "text": [
            "INFO:fbprophet:Disabling yearly seasonality. Run prophet with yearly_seasonality=True to override this.\n",
            "INFO:fbprophet:Disabling weekly seasonality. Run prophet with weekly_seasonality=True to override this.\n"
          ]
        },
        {
          "output_type": "execute_result",
          "data": {
            "text/plain": [
              "<fbprophet.forecaster.Prophet at 0x7f46daa0a190>"
            ]
          },
          "metadata": {},
          "execution_count": 15
        }
      ]
    },
    {
      "cell_type": "code",
      "metadata": {
        "id": "ylP8nXwEYBxK"
      },
      "source": [
        "#24시간 예측\n",
        "future = model.make_future_dataframe(periods=10, freq='H')\n",
        "\n",
        "forecast = model.predict(future)"
      ],
      "execution_count": null,
      "outputs": []
    },
    {
      "cell_type": "code",
      "metadata": {
        "colab": {
          "base_uri": "https://localhost:8080/",
          "height": 441
        },
        "id": "_zzI5o0OXN5H",
        "outputId": "cae36cdb-ecac-4d5d-a123-ce1644a18c7c"
      },
      "source": [
        "# 그래프1\n",
        "fig1 = model.plot(forecast)\n",
        "#a = add_changepoints_to_plot(fig1.gca(), model, forecast)"
      ],
      "execution_count": null,
      "outputs": [
        {
          "output_type": "display_data",
          "data": {
            "image/png": "[encoded data removed]",
            "text/plain": [
              "<Figure size 720x432 with 1 Axes>"
            ]
          },
          "metadata": {}
        }
      ]
    },
    {
      "cell_type": "code",
      "metadata": {
        "colab": {
          "base_uri": "https://localhost:8080/",
          "height": 441
        },
        "id": "DkVLmIsPXOl6",
        "outputId": "6a944217-ec59-41c0-d37c-a5232c3a03ee"
      },
      "source": [
        "# 그래프2\n",
        "fig2 = model.plot_components(forecast)"
      ],
      "execution_count": null,
      "outputs": [
        {
          "output_type": "display_data",
          "data": {
            "image/png": "[encoded data removed]",
            "text/plain": [
              "<Figure size 648x432 with 2 Axes>"
            ]
          },
          "metadata": {}
        }
      ]
    },
    {
      "cell_type": "code",
      "metadata": {
        "colab": {
          "base_uri": "https://localhost:8080/"
        },
        "id": "GJgSNaOcr5_t",
        "outputId": "38314435-1b1f-48c7-9e2e-450297e6a3dc"
      },
      "source": [
        "#가격 조회\n",
        "nowValue = pyupbit.get_current_price(\"KRW-eth\")\n",
        "closeValue = forecast['yhat'].values[-1]\n",
        "\n",
        "print(\"현재가 : \" , nowValue)\n",
        "print(\"24시간뒤의 가격: \", closeValue)\n"
      ],
      "execution_count": null,
      "outputs": [
        {
          "output_type": "stream",
          "name": "stdout",
          "text": [
            "현재가 :  5000000.0\n",
            "24시간뒤의 가격:  5066061.401504716\n"
          ]
        }
      ]
    },
    {
      "cell_type": "markdown",
      "metadata": {
        "id": "KaXKRs1UJUtw"
      },
      "source": [
        ""
      ]
    },
    {
      "cell_type": "code",
      "metadata": {
        "colab": {
          "base_uri": "https://localhost:8080/",
          "height": 790
        },
        "id": "BS_M58SRt94s",
        "outputId": "64cd4942-3407-4a53-97e1-ef25e7353492"
      },
      "source": [
        "forecast"
      ],
      "execution_count": null,
      "outputs": [
        {
          "output_type": "execute_result",
          "data": {
            "text/html": [
              "<div>\n",
              "<style scoped>\n",
              "    .dataframe tbody tr th:only-of-type {\n",
              "        vertical-align: middle;\n",
              "    }\n",
              "\n",
              "    .dataframe tbody tr th {\n",
              "        vertical-align: top;\n",
              "    }\n",
              "\n",
              "    .dataframe thead th {\n",
              "        text-align: right;\n",
              "    }\n",
              "</style>\n",
              "<table border=\"1\" class=\"dataframe\">\n",
              "  <thead>\n",
              "    <tr style=\"text-align: right;\">\n",
              "      <th></th>\n",
              "      <th>ds</th>\n",
              "      <th>trend</th>\n",
              "      <th>yhat_lower</th>\n",
              "      <th>yhat_upper</th>\n",
              "      <th>trend_lower</th>\n",
              "      <th>trend_upper</th>\n",
              "      <th>daily</th>\n",
              "      <th>daily_lower</th>\n",
              "      <th>daily_upper</th>\n",
              "      <th>multiplicative_terms</th>\n",
              "      <th>multiplicative_terms_lower</th>\n",
              "      <th>multiplicative_terms_upper</th>\n",
              "      <th>additive_terms</th>\n",
              "      <th>additive_terms_lower</th>\n",
              "      <th>additive_terms_upper</th>\n",
              "      <th>yhat</th>\n",
              "    </tr>\n",
              "  </thead>\n",
              "  <tbody>\n",
              "    <tr>\n",
              "      <th>0</th>\n",
              "      <td>2021-10-23 06:00:00</td>\n",
              "      <td>4.829927e+06</td>\n",
              "      <td>4.849298e+06</td>\n",
              "      <td>4.885536e+06</td>\n",
              "      <td>4.829927e+06</td>\n",
              "      <td>4.829927e+06</td>\n",
              "      <td>0.008093</td>\n",
              "      <td>0.008093</td>\n",
              "      <td>0.008093</td>\n",
              "      <td>0.008093</td>\n",
              "      <td>0.008093</td>\n",
              "      <td>0.008093</td>\n",
              "      <td>0.0</td>\n",
              "      <td>0.0</td>\n",
              "      <td>0.0</td>\n",
              "      <td>4.869013e+06</td>\n",
              "    </tr>\n",
              "    <tr>\n",
              "      <th>1</th>\n",
              "      <td>2021-10-23 06:15:00</td>\n",
              "      <td>4.830428e+06</td>\n",
              "      <td>4.853173e+06</td>\n",
              "      <td>4.890144e+06</td>\n",
              "      <td>4.830428e+06</td>\n",
              "      <td>4.830428e+06</td>\n",
              "      <td>0.008436</td>\n",
              "      <td>0.008436</td>\n",
              "      <td>0.008436</td>\n",
              "      <td>0.008436</td>\n",
              "      <td>0.008436</td>\n",
              "      <td>0.008436</td>\n",
              "      <td>0.0</td>\n",
              "      <td>0.0</td>\n",
              "      <td>0.0</td>\n",
              "      <td>4.871179e+06</td>\n",
              "    </tr>\n",
              "    <tr>\n",
              "      <th>2</th>\n",
              "      <td>2021-10-23 06:30:00</td>\n",
              "      <td>4.830929e+06</td>\n",
              "      <td>4.854769e+06</td>\n",
              "      <td>4.889267e+06</td>\n",
              "      <td>4.830929e+06</td>\n",
              "      <td>4.830929e+06</td>\n",
              "      <td>0.008579</td>\n",
              "      <td>0.008579</td>\n",
              "      <td>0.008579</td>\n",
              "      <td>0.008579</td>\n",
              "      <td>0.008579</td>\n",
              "      <td>0.008579</td>\n",
              "      <td>0.0</td>\n",
              "      <td>0.0</td>\n",
              "      <td>0.0</td>\n",
              "      <td>4.872373e+06</td>\n",
              "    </tr>\n",
              "    <tr>\n",
              "      <th>3</th>\n",
              "      <td>2021-10-23 06:45:00</td>\n",
              "      <td>4.831430e+06</td>\n",
              "      <td>4.856066e+06</td>\n",
              "      <td>4.891100e+06</td>\n",
              "      <td>4.831430e+06</td>\n",
              "      <td>4.831430e+06</td>\n",
              "      <td>0.008519</td>\n",
              "      <td>0.008519</td>\n",
              "      <td>0.008519</td>\n",
              "      <td>0.008519</td>\n",
              "      <td>0.008519</td>\n",
              "      <td>0.008519</td>\n",
              "      <td>0.0</td>\n",
              "      <td>0.0</td>\n",
              "      <td>0.0</td>\n",
              "      <td>4.872588e+06</td>\n",
              "    </tr>\n",
              "    <tr>\n",
              "      <th>4</th>\n",
              "      <td>2021-10-23 07:00:00</td>\n",
              "      <td>4.831931e+06</td>\n",
              "      <td>4.854917e+06</td>\n",
              "      <td>4.888626e+06</td>\n",
              "      <td>4.831931e+06</td>\n",
              "      <td>4.831931e+06</td>\n",
              "      <td>0.008266</td>\n",
              "      <td>0.008266</td>\n",
              "      <td>0.008266</td>\n",
              "      <td>0.008266</td>\n",
              "      <td>0.008266</td>\n",
              "      <td>0.008266</td>\n",
              "      <td>0.0</td>\n",
              "      <td>0.0</td>\n",
              "      <td>0.0</td>\n",
              "      <td>4.871872e+06</td>\n",
              "    </tr>\n",
              "    <tr>\n",
              "      <th>...</th>\n",
              "      <td>...</td>\n",
              "      <td>...</td>\n",
              "      <td>...</td>\n",
              "      <td>...</td>\n",
              "      <td>...</td>\n",
              "      <td>...</td>\n",
              "      <td>...</td>\n",
              "      <td>...</td>\n",
              "      <td>...</td>\n",
              "      <td>...</td>\n",
              "      <td>...</td>\n",
              "      <td>...</td>\n",
              "      <td>...</td>\n",
              "      <td>...</td>\n",
              "      <td>...</td>\n",
              "      <td>...</td>\n",
              "    </tr>\n",
              "    <tr>\n",
              "      <th>208</th>\n",
              "      <td>2021-10-25 16:45:00</td>\n",
              "      <td>5.043623e+06</td>\n",
              "      <td>4.652446e+06</td>\n",
              "      <td>5.398666e+06</td>\n",
              "      <td>4.668818e+06</td>\n",
              "      <td>5.411908e+06</td>\n",
              "      <td>-0.002122</td>\n",
              "      <td>-0.002122</td>\n",
              "      <td>-0.002122</td>\n",
              "      <td>-0.002122</td>\n",
              "      <td>-0.002122</td>\n",
              "      <td>-0.002122</td>\n",
              "      <td>0.0</td>\n",
              "      <td>0.0</td>\n",
              "      <td>0.0</td>\n",
              "      <td>5.032922e+06</td>\n",
              "    </tr>\n",
              "    <tr>\n",
              "      <th>209</th>\n",
              "      <td>2021-10-25 17:45:00</td>\n",
              "      <td>5.051337e+06</td>\n",
              "      <td>4.583612e+06</td>\n",
              "      <td>5.482853e+06</td>\n",
              "      <td>4.592911e+06</td>\n",
              "      <td>5.483074e+06</td>\n",
              "      <td>-0.002426</td>\n",
              "      <td>-0.002426</td>\n",
              "      <td>-0.002426</td>\n",
              "      <td>-0.002426</td>\n",
              "      <td>-0.002426</td>\n",
              "      <td>-0.002426</td>\n",
              "      <td>0.0</td>\n",
              "      <td>0.0</td>\n",
              "      <td>0.0</td>\n",
              "      <td>5.039081e+06</td>\n",
              "    </tr>\n",
              "    <tr>\n",
              "      <th>210</th>\n",
              "      <td>2021-10-25 18:45:00</td>\n",
              "      <td>5.059051e+06</td>\n",
              "      <td>4.509012e+06</td>\n",
              "      <td>5.544183e+06</td>\n",
              "      <td>4.530117e+06</td>\n",
              "      <td>5.565625e+06</td>\n",
              "      <td>-0.004869</td>\n",
              "      <td>-0.004869</td>\n",
              "      <td>-0.004869</td>\n",
              "      <td>-0.004869</td>\n",
              "      <td>-0.004869</td>\n",
              "      <td>-0.004869</td>\n",
              "      <td>0.0</td>\n",
              "      <td>0.0</td>\n",
              "      <td>0.0</td>\n",
              "      <td>5.034420e+06</td>\n",
              "    </tr>\n",
              "    <tr>\n",
              "      <th>211</th>\n",
              "      <td>2021-10-25 19:45:00</td>\n",
              "      <td>5.066765e+06</td>\n",
              "      <td>4.419172e+06</td>\n",
              "      <td>5.609754e+06</td>\n",
              "      <td>4.468623e+06</td>\n",
              "      <td>5.652178e+06</td>\n",
              "      <td>-0.008389</td>\n",
              "      <td>-0.008389</td>\n",
              "      <td>-0.008389</td>\n",
              "      <td>-0.008389</td>\n",
              "      <td>-0.008389</td>\n",
              "      <td>-0.008389</td>\n",
              "      <td>0.0</td>\n",
              "      <td>0.0</td>\n",
              "      <td>0.0</td>\n",
              "      <td>5.024262e+06</td>\n",
              "    </tr>\n",
              "    <tr>\n",
              "      <th>212</th>\n",
              "      <td>2021-10-25 20:45:00</td>\n",
              "      <td>5.074479e+06</td>\n",
              "      <td>4.336791e+06</td>\n",
              "      <td>5.712137e+06</td>\n",
              "      <td>4.387652e+06</td>\n",
              "      <td>5.765087e+06</td>\n",
              "      <td>-0.010230</td>\n",
              "      <td>-0.010230</td>\n",
              "      <td>-0.010230</td>\n",
              "      <td>-0.010230</td>\n",
              "      <td>-0.010230</td>\n",
              "      <td>-0.010230</td>\n",
              "      <td>0.0</td>\n",
              "      <td>0.0</td>\n",
              "      <td>0.0</td>\n",
              "      <td>5.022567e+06</td>\n",
              "    </tr>\n",
              "  </tbody>\n",
              "</table>\n",
              "<p>213 rows × 16 columns</p>\n",
              "</div>"
            ],
            "text/plain": [
              "                     ds         trend  ...  additive_terms_upper          yhat\n",
              "0   2021-10-23 06:00:00  4.829927e+06  ...                   0.0  4.869013e+06\n",
              "1   2021-10-23 06:15:00  4.830428e+06  ...                   0.0  4.871179e+06\n",
              "2   2021-10-23 06:30:00  4.830929e+06  ...                   0.0  4.872373e+06\n",
              "3   2021-10-23 06:45:00  4.831430e+06  ...                   0.0  4.872588e+06\n",
              "4   2021-10-23 07:00:00  4.831931e+06  ...                   0.0  4.871872e+06\n",
              "..                  ...           ...  ...                   ...           ...\n",
              "208 2021-10-25 16:45:00  5.043623e+06  ...                   0.0  5.032922e+06\n",
              "209 2021-10-25 17:45:00  5.051337e+06  ...                   0.0  5.039081e+06\n",
              "210 2021-10-25 18:45:00  5.059051e+06  ...                   0.0  5.034420e+06\n",
              "211 2021-10-25 19:45:00  5.066765e+06  ...                   0.0  5.024262e+06\n",
              "212 2021-10-25 20:45:00  5.074479e+06  ...                   0.0  5.022567e+06\n",
              "\n",
              "[213 rows x 16 columns]"
            ]
          },
          "metadata": {},
          "execution_count": 10
        }
      ]
    },
    {
      "cell_type": "code",
      "metadata": {
        "id": "JB_UYNJ-uYZr"
      },
      "source": [
        ""
      ],
      "execution_count": null,
      "outputs": []
    }
  ]
}